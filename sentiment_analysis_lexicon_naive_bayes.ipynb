{
 "cells": [
  {
   "cell_type": "code",
   "execution_count": null,
   "id": "0fc60aa9",
   "metadata": {},
   "outputs": [
    {
     "name": "stdout",
     "output_type": "stream",
     "text": [
      "                                             Reviews lexicon_sentiment\n",
      "0  Awal pake skincare aku pake natural republic, ...           neutral\n",
      "1  aku pake ini dari aku kuliah sampe sekarang ka...           neutral\n",
      "2  Tekstur nya gel jadi ringan di kulit terus mel...          positive\n",
      "3  Produk serba bisa, buat rambut bisa buat pelem...           neutral\n",
      "4  Suka banget pake produk ini, melembabkan sekal...          positive\n"
     ]
    }
   ],
   "source": [
    "import pandas as pd\n",
    "import re\n",
    "import string\n",
    "import numpy as np\n",
    "import matplotlib.pyplot as plt\n",
    "from sklearn.model_selection import train_test_split\n",
    "from sklearn.feature_extraction.text import TfidfVectorizer\n",
    "from sklearn.naive_bayes import MultinomialNB\n",
    "from sklearn.metrics import classification_report, accuracy_score, confusion_matrix\n",
    "import matplotlib.pyplot as plt\n",
    "import seaborn as sns\n",
    "\n",
    "# 1. Load data\n",
    "df = pd.read_csv('ulasan_femaledaily.csv')\n",
    "\n",
    "# 2. Preprocessing function\n",
    "def preprocess_text(text):\n",
    "    text = text.lower()\n",
    "    text = re.sub(r'\\d+', '', text)\n",
    "    text = text.translate(str.maketrans('', '', string.punctuation))\n",
    "    text = re.sub(r'\\s+', ' ', text).strip()\n",
    "    return text\n",
    "\n",
    "df['cleaned'] = df['Reviews'].astype(str).apply(preprocess_text)\n",
    "\n",
    "# 3. Lexicon lists (bisa dikembangkan sesuai kebutuhan)\n",
    "positive_words = {'bagus', 'suka', 'mantap', 'puas', 'recommended', 'cocok', 'baik', 'top', 'nyaman', 'senang'}\n",
    "negative_words = {'jelek', 'buruk', 'tidak', 'mengecewakan', 'parah', 'mahal', 'kurang', 'gagal', 'benci'}\n",
    "\n",
    "# 4. Lexicon-based sentiment function\n",
    "def lexicon_sentiment(text):\n",
    "    words = text.split()\n",
    "    pos = sum(1 for w in words if w in positive_words)\n",
    "    neg = sum(1 for w in words if w in negative_words)\n",
    "    if pos > neg:\n",
    "        return 'positive'\n",
    "    elif neg > pos:\n",
    "        return 'negative'\n",
    "    else:\n",
    "        return 'neutral'\n",
    "\n",
    "df['lexicon_sentiment'] = df['cleaned'].apply(lexicon_sentiment)\n",
    "\n",
    "# 5. Simpan hasil\n",
    "print(df[['Reviews', 'lexicon_sentiment']].head())\n",
    "# df[['Reviews', 'lexicon_sentiment']].to_csv('sentiment_results_lexicon.csv', index=False)"
   ]
  },
  {
   "cell_type": "code",
   "execution_count": 7,
   "id": "c3820248",
   "metadata": {},
   "outputs": [
    {
     "name": "stdout",
     "output_type": "stream",
     "text": [
      "\n",
      "Distribusi Label Sentimen:\n",
      "lexicon_sentiment\n",
      "positive    910\n",
      "neutral     479\n",
      "negative    101\n",
      "Name: count, dtype: int64\n",
      "\n",
      "Jumlah Data Training: 1192\n",
      "Jumlah Data Testing: 298\n",
      "\n",
      "Dimensi Matriks TF-IDF Training: (1192, 5000)\n",
      "\n",
      "Evaluasi Model:\n",
      "Akurasi: 0.61\n",
      "\n",
      "Classification Report:\n",
      "              precision    recall  f1-score   support\n",
      "\n",
      "    negative       0.00      0.00      0.00        23\n",
      "     neutral       0.80      0.04      0.08        96\n",
      "    positive       0.61      1.00      0.76       179\n",
      "\n",
      "    accuracy                           0.61       298\n",
      "   macro avg       0.47      0.35      0.28       298\n",
      "weighted avg       0.62      0.61      0.48       298\n",
      "\n"
     ]
    },
    {
     "name": "stderr",
     "output_type": "stream",
     "text": [
      "c:\\Users\\LENOVO\\AppData\\Local\\Programs\\Python\\Python310\\lib\\site-packages\\sklearn\\metrics\\_classification.py:1565: UndefinedMetricWarning: Precision is ill-defined and being set to 0.0 in labels with no predicted samples. Use `zero_division` parameter to control this behavior.\n",
      "  _warn_prf(average, modifier, f\"{metric.capitalize()} is\", len(result))\n",
      "c:\\Users\\LENOVO\\AppData\\Local\\Programs\\Python\\Python310\\lib\\site-packages\\sklearn\\metrics\\_classification.py:1565: UndefinedMetricWarning: Precision is ill-defined and being set to 0.0 in labels with no predicted samples. Use `zero_division` parameter to control this behavior.\n",
      "  _warn_prf(average, modifier, f\"{metric.capitalize()} is\", len(result))\n",
      "c:\\Users\\LENOVO\\AppData\\Local\\Programs\\Python\\Python310\\lib\\site-packages\\sklearn\\metrics\\_classification.py:1565: UndefinedMetricWarning: Precision is ill-defined and being set to 0.0 in labels with no predicted samples. Use `zero_division` parameter to control this behavior.\n",
      "  _warn_prf(average, modifier, f\"{metric.capitalize()} is\", len(result))\n"
     ]
    },
    {
     "data": {
      "image/png": "[encoded data removed]",
      "text/plain": [
       "<Figure size 800x600 with 2 Axes>"
      ]
     },
     "metadata": {},
     "output_type": "display_data"
    }
   ],
   "source": [
    "# 3. Cek distribusi label\n",
    "print(\"\\nDistribusi Label Sentimen:\")\n",
    "print(df['lexicon_sentiment'].value_counts())\n",
    "\n",
    "# 4. Split Data (80% training, 20% testing)\n",
    "X = df['Reviews']\n",
    "y = df['lexicon_sentiment']\n",
    "X_train, X_test, y_train, y_test = train_test_split(X, y, test_size=0.2, random_state=42)\n",
    "\n",
    "print(f\"\\nJumlah Data Training: {len(X_train)}\")\n",
    "print(f\"Jumlah Data Testing: {len(X_test)}\")\n",
    "\n",
    "# 5. Feature Extraction dengan TF-IDF\n",
    "tfidf = TfidfVectorizer(max_features=5000, ngram_range=(1,2))\n",
    "X_train_tfidf = tfidf.fit_transform(X_train)\n",
    "X_test_tfidf = tfidf.transform(X_test)\n",
    "\n",
    "print(f\"\\nDimensi Matriks TF-IDF Training: {X_train_tfidf.shape}\")\n",
    "\n",
    "# 6. Train Naive Bayes Model\n",
    "nb_model = MultinomialNB()\n",
    "nb_model.fit(X_train_tfidf, y_train)\n",
    "\n",
    "# 7. Evaluasi Model\n",
    "y_pred = nb_model.predict(X_test_tfidf)\n",
    "\n",
    "print(\"\\nEvaluasi Model:\")\n",
    "print(f\"Akurasi: {accuracy_score(y_test, y_pred):.2f}\")\n",
    "print(\"\\nClassification Report:\")\n",
    "print(classification_report(y_test, y_pred))\n",
    "\n",
    "# 8. Confusion Matrix Visualization\n",
    "def plot_confusion_matrix(y_true, y_pred):\n",
    "    cm = confusion_matrix(y_true, y_pred)\n",
    "    plt.figure(figsize=(8,6))\n",
    "    sns.heatmap(cm, annot=True, fmt='d', cmap='Blues', \n",
    "                xticklabels=nb_model.classes_, \n",
    "                yticklabels=nb_model.classes_)\n",
    "    plt.title('Confusion Matrix')\n",
    "    plt.xlabel('Predicted')\n",
    "    plt.ylabel('Actual')\n",
    "    plt.show()\n",
    "\n",
    "plot_confusion_matrix(y_test, y_pred)"
   ]
  }
 ],
 "metadata": {
  "kernelspec": {
   "display_name": "Python 3",
   "language": "python",
   "name": "python3"
  },
  "language_info": {
   "codemirror_mode": {
    "name": "ipython",
    "version": 3
   },
   "file_extension": ".py",
   "mimetype": "text/x-python",
   "name": "python",
   "nbconvert_exporter": "python",
   "pygments_lexer": "ipython3",
   "version": "3.10.11"
  }
 },
 "nbformat": 4,
 "nbformat_minor": 5
}
