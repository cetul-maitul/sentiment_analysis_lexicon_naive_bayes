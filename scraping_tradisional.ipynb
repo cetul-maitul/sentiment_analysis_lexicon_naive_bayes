{
 "cells": [
  {
   "cell_type": "code",
   "execution_count": 12,
   "id": "45a202b2",
   "metadata": {},
   "outputs": [],
   "source": [
    "from bs4 import BeautifulSoup\n",
    "import pandas as pd\n",
    "import requests"
   ]
  },
  {
   "cell_type": "code",
   "execution_count": 13,
   "id": "aaf03315",
   "metadata": {},
   "outputs": [
    {
     "data": {
      "text/plain": [
       "<Response [200]>"
      ]
     },
     "execution_count": 13,
     "metadata": {},
     "output_type": "execute_result"
    }
   ],
   "source": [
    "url = 'https://reviews.femaledaily.com/products/treatment/serum-essence/pond-s/age-miracle-ultimate-youth-serum?cat=&cat_id=0&age_range=&skin_type=&skin_tone=&skin_undertone=&hair_texture=&hair_type=&order=newest&page=1'\n",
    "response = requests.get(url)\n",
    "response"
   ]
  },
  {
   "cell_type": "code",
   "execution_count": 14,
   "id": "02bfba1b",
   "metadata": {},
   "outputs": [],
   "source": [
    "soup = BeautifulSoup(response.text, \"html.parser\")\n",
    "html = soup.find_all('div', {\"class\" : \"review-card\"})\n",
    "# html"
   ]
  },
  {
   "cell_type": "code",
   "execution_count": 15,
   "id": "a9af10e2",
   "metadata": {},
   "outputs": [],
   "source": [
    "reviews = []\n",
    "usernames = []\n",
    "\n",
    "for row in html:\n",
    "    review = row.find(\"p\", {\"class\":\"text-content\"})\n",
    "    reviews.append(review.text)\n",
    "\n",
    "    username = row.find(\"p\", {\"class\":\"profile-username\"})\n",
    "    usernames.append(username.text)"
   ]
  },
  {
   "cell_type": "code",
   "execution_count": 17,
   "id": "408355cf",
   "metadata": {},
   "outputs": [
    {
     "data": {
      "text/html": [
       "<div>\n",
       "<style scoped>\n",
       "    .dataframe tbody tr th:only-of-type {\n",
       "        vertical-align: middle;\n",
       "    }\n",
       "\n",
       "    .dataframe tbody tr th {\n",
       "        vertical-align: top;\n",
       "    }\n",
       "\n",
       "    .dataframe thead th {\n",
       "        text-align: right;\n",
       "    }\n",
       "</style>\n",
       "<table border=\"1\" class=\"dataframe\">\n",
       "  <thead>\n",
       "    <tr style=\"text-align: right;\">\n",
       "      <th></th>\n",
       "      <th>Username</th>\n",
       "      <th>Reviews</th>\n",
       "    </tr>\n",
       "  </thead>\n",
       "  <tbody>\n",
       "    <tr>\n",
       "      <th>0</th>\n",
       "      <td>firyalane</td>\n",
       "      <td>Awalnya karena dapet hampers dari mantan kanto...</td>\n",
       "    </tr>\n",
       "    <tr>\n",
       "      <th>1</th>\n",
       "      <td>ratnakartika04</td>\n",
       "      <td>Serum ini *next level* banget buat anti-aging!...</td>\n",
       "    </tr>\n",
       "    <tr>\n",
       "      <th>2</th>\n",
       "      <td>nannisa7</td>\n",
       "      <td>packagingnya warna merah dan perak jadi terlih...</td>\n",
       "    </tr>\n",
       "    <tr>\n",
       "      <th>3</th>\n",
       "      <td>anared11</td>\n",
       "      <td>Seneng banget dapet kesempatan try n review pr...</td>\n",
       "    </tr>\n",
       "    <tr>\n",
       "      <th>4</th>\n",
       "      <td>Rennya9</td>\n",
       "      <td>Serum ini teksturnya ringan, gampang nyerep, d...</td>\n",
       "    </tr>\n",
       "    <tr>\n",
       "      <th>5</th>\n",
       "      <td>bulanrhs</td>\n",
       "      <td>grateful karena I get to try this gratis in ex...</td>\n",
       "    </tr>\n",
       "    <tr>\n",
       "      <th>6</th>\n",
       "      <td>shfr_bila</td>\n",
       "      <td>Hai aku shafira aku usia 24 tahun, waktu ponds...</td>\n",
       "    </tr>\n",
       "    <tr>\n",
       "      <th>7</th>\n",
       "      <td>kikumiku</td>\n",
       "      <td>Serum dari ponds ini cocok banget buat yang pu...</td>\n",
       "    </tr>\n",
       "    <tr>\n",
       "      <th>8</th>\n",
       "      <td>1indahputri</td>\n",
       "      <td>Bagus banget bikin kulit cerah kenyal dan glas...</td>\n",
       "    </tr>\n",
       "    <tr>\n",
       "      <th>9</th>\n",
       "      <td>jastip_err</td>\n",
       "      <td>Worth the price, kemasannya bagus teksturnya g...</td>\n",
       "    </tr>\n",
       "  </tbody>\n",
       "</table>\n",
       "</div>"
      ],
      "text/plain": [
       "         Username                                            Reviews\n",
       "0       firyalane  Awalnya karena dapet hampers dari mantan kanto...\n",
       "1  ratnakartika04  Serum ini *next level* banget buat anti-aging!...\n",
       "2        nannisa7  packagingnya warna merah dan perak jadi terlih...\n",
       "3        anared11  Seneng banget dapet kesempatan try n review pr...\n",
       "4         Rennya9  Serum ini teksturnya ringan, gampang nyerep, d...\n",
       "5        bulanrhs  grateful karena I get to try this gratis in ex...\n",
       "6       shfr_bila  Hai aku shafira aku usia 24 tahun, waktu ponds...\n",
       "7        kikumiku  Serum dari ponds ini cocok banget buat yang pu...\n",
       "8     1indahputri  Bagus banget bikin kulit cerah kenyal dan glas...\n",
       "9      jastip_err  Worth the price, kemasannya bagus teksturnya g..."
      ]
     },
     "execution_count": 17,
     "metadata": {},
     "output_type": "execute_result"
    }
   ],
   "source": [
    "df = pd.DataFrame({'Username' : usernames, 'Reviews' : reviews})\n",
    "# df.to_csv('femaledaily_ulasan.csv', index=False, encoding='utf-8')\n",
    "df"
   ]
  }
 ],
 "metadata": {
  "kernelspec": {
   "display_name": "Python 3",
   "language": "python",
   "name": "python3"
  },
  "language_info": {
   "codemirror_mode": {
    "name": "ipython",
    "version": 3
   },
   "file_extension": ".py",
   "mimetype": "text/x-python",
   "name": "python",
   "nbconvert_exporter": "python",
   "pygments_lexer": "ipython3",
   "version": "3.10.11"
  }
 },
 "nbformat": 4,
 "nbformat_minor": 5
}
